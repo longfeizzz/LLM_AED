{
 "cells": [
  {
   "cell_type": "markdown",
   "metadata": {},
   "source": [
    "## check numbers in label-count-round"
   ]
  },
  {
   "cell_type": "code",
   "execution_count": null,
   "metadata": {},
   "outputs": [],
   "source": [
    "import json\n",
    "from collections import defaultdict\n",
    "\n",
    "input_path = \"../varierr_with_peer.json\"\n",
    "\n",
    "def sum_label_frequencies(input_file):\n",
    "    labels = [\"entailment\", \"neutral\", \"contradiction\"]\n",
    "    total_freq = defaultdict(float)\n",
    "\n",
    "    with open(input_file, 'r', encoding='utf-8') as fin:\n",
    "        for line in fin:\n",
    "            data = json.loads(line.strip())\n",
    "            label_count_round_1 = data.get(\"label_count_round_3\", {})\n",
    "\n",
    "            for label in labels:\n",
    "                freq = label_count_round_1.get(label, 0.0)\n",
    "                if freq is None:\n",
    "                    freq = 0.0\n",
    "                total_freq[label] += freq\n",
    "\n",
    "\n",
    "    print(\"label_count_round_3 ：\")\n",
    "    for label in labels:\n",
    "        print(f\"{label:<15}: {total_freq[label]}\")\n",
    "\n",
    "\n",
    "sum_label_frequencies(input_path)\n"
   ]
  },
  {
   "cell_type": "markdown",
   "metadata": {},
   "source": [
    "## chech numbers in label-count-round, but aggregated"
   ]
  },
  {
   "cell_type": "code",
   "execution_count": null,
   "metadata": {},
   "outputs": [],
   "source": [
    "import json\n",
    "from collections import defaultdict\n",
    "\n",
    "input_path = \"../varierr_with_peer.json\"\n",
    "\n",
    "def count_label_occurrences(input_file):\n",
    "    labels = [\"entailment\", \"neutral\", \"contradiction\"]\n",
    "    label_counter = defaultdict(int)\n",
    "\n",
    "    with open(input_file, 'r', encoding='utf-8') as fin:\n",
    "        for line in fin:\n",
    "            data = json.loads(line.strip())\n",
    "            label_count_round_1 = data.get(\"label_count_round_3\", {})\n",
    "\n",
    "            for label in labels:\n",
    "                freq = label_count_round_1.get(label)\n",
    "                if freq is not None:\n",
    "                    label_counter[label] += 1\n",
    "\n",
    "    print(\"label_count_round_1 aggredated：\")\n",
    "    for label in labels:\n",
    "        print(f\"{label:<15}: {label_counter[label]}\")\n",
    "\n",
    "count_label_occurrences(input_path)\n"
   ]
  },
  {
   "cell_type": "markdown",
   "metadata": {},
   "source": [
    "## chech numbers in label-set-round (should be the same as previous block)"
   ]
  },
  {
   "cell_type": "code",
   "execution_count": null,
   "metadata": {},
   "outputs": [],
   "source": [
    "import json\n",
    "from collections import defaultdict\n",
    "\n",
    "input_path = \"../varierr_with_peer.json\"\n",
    "\n",
    "def count_label_occurrences(input_file):\n",
    "    labels = [\"entailment\", \"neutral\", \"contradiction\"]\n",
    "    label_counter = defaultdict(int)\n",
    "\n",
    "    with open(input_file, 'r', encoding='utf-8') as fin:\n",
    "        for line in fin:\n",
    "            data = json.loads(line.strip())\n",
    "            label_set = data.get(\"label_set_round_3\", [])\n",
    "\n",
    "            for label in label_set:\n",
    "                if label in labels:\n",
    "                    label_counter[label] += 1\n",
    "\n",
    "\n",
    "    print(\"label_set_round_3 ：\")\n",
    "    for label in labels:\n",
    "        print(f\"{label:<15}: {label_counter[label]}\")\n",
    "\n",
    "count_label_occurrences(input_path)\n"
   ]
  },
  {
   "cell_type": "markdown",
   "metadata": {},
   "source": [
    "## check error numbers"
   ]
  },
  {
   "cell_type": "code",
   "execution_count": null,
   "metadata": {},
   "outputs": [],
   "source": [
    "import json\n",
    "from collections import defaultdict\n",
    "\n",
    "input_path = \"../varierr_with_peer_validated.json\"\n",
    "\n",
    "def count_error_peer_labels(input_file):\n",
    "    labels = [\"entailment\", \"neutral\", \"contradiction\"]\n",
    "    error_peer_counter = defaultdict(int)\n",
    "\n",
    "    with open(input_file, \"r\", encoding=\"utf-8\") as infile:\n",
    "        for line in infile:\n",
    "            data = json.loads(line)\n",
    "            error_peer_labels = data.get(\"error_labels\", [])\n",
    "\n",
    "            for label in error_peer_labels:\n",
    "                if label in labels:\n",
    "                    error_peer_counter[label] += 1\n",
    "\n",
    "    print(\"number of labels in error_peer:\")\n",
    "    for label in labels:\n",
    "        print(f\"{label:<15}: {error_peer_counter[label]}\")\n",
    "\n",
    "count_error_peer_labels(input_path)\n"
   ]
  },
  {
   "cell_type": "code",
   "execution_count": null,
   "metadata": {},
   "outputs": [],
   "source": [
    "import json\n",
    "from collections import defaultdict\n",
    "\n",
    "input_path = \"../varierr.json\"\n",
    "labels = [\"entailment\", \"neutral\", \"contradiction\"]\n",
    "\n",
    "# repeated\n",
    "peer_validated_repeated = defaultdict(int)\n",
    "\n",
    "# aggregated\n",
    "peer_validated_aggregated = defaultdict(set)\n",
    "\n",
    "with open(input_path, \"r\", encoding=\"utf-8\") as infile:\n",
    "    for line in infile:\n",
    "        data = json.loads(line)\n",
    "        data_id = data.get(\"id\", \"unknown\")\n",
    "\n",
    "        for label in labels:\n",
    "            explanations = data.get(label, [])\n",
    "            label_has_peer_validated = False\n",
    "\n",
    "            for entry in explanations:\n",
    "                if not isinstance(entry, dict):\n",
    "                    continue\n",
    "                ak = entry.get(\"annotator\")\n",
    "                peer_yes_votes = 0\n",
    "\n",
    "                for j in entry.get(\"judgments\", []):\n",
    "                    if not isinstance(j, dict):\n",
    "                        continue\n",
    "                    if j.get(\"annotator\") != ak and j.get(\"makes_sense\") is True:\n",
    "                        peer_yes_votes += 1\n",
    "\n",
    "                if peer_yes_votes >= 2:\n",
    "                    peer_validated_repeated[label] += 1\n",
    "                    label_has_peer_validated = True\n",
    "\n",
    "            if label_has_peer_validated:\n",
    "                peer_validated_aggregated[label].add(data_id)\n",
    "\n",
    "print(\"Peer-validated — repeated:\")\n",
    "for label in labels:\n",
    "    print(f\"  {label:<15}: {peer_validated_repeated[label]} explanations\")\n",
    "\n",
    "print(\"Peer-validated — aggregated:\")\n",
    "for label in labels:\n",
    "    print(f\"  {label:<15}: {len(peer_validated_aggregated[label])} labels\")\n"
   ]
  }
 ],
 "metadata": {
  "kernelspec": {
   "display_name": "base",
   "language": "python",
   "name": "python3"
  },
  "language_info": {
   "codemirror_mode": {
    "name": "ipython",
    "version": 3
   },
   "file_extension": ".py",
   "mimetype": "text/x-python",
   "name": "python",
   "nbconvert_exporter": "python",
   "pygments_lexer": "ipython3",
   "version": "3.12.3"
  }
 },
 "nbformat": 4,
 "nbformat_minor": 2
}
